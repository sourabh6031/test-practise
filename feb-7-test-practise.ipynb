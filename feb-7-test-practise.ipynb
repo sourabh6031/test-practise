{
 "cells": [
  {
   "cell_type": "code",
   "execution_count": 6,
   "id": "d8a2a2b8",
   "metadata": {},
   "outputs": [],
   "source": [
    "def check(number): # 456\n",
    "    result = 0\n",
    "    for i in str(number):\n",
    "        result += int(i)**3\n",
    "    if result == number:\n",
    "        return True\n",
    "    else:\n",
    "        return False\n",
    "        "
   ]
  },
  {
   "cell_type": "code",
   "execution_count": 8,
   "id": "e1f760e6",
   "metadata": {},
   "outputs": [
    {
     "data": {
      "text/plain": [
       "True"
      ]
     },
     "execution_count": 8,
     "metadata": {},
     "output_type": "execute_result"
    }
   ],
   "source": [
    "check(153)"
   ]
  },
  {
   "cell_type": "code",
   "execution_count": 17,
   "id": "f3c48827",
   "metadata": {},
   "outputs": [],
   "source": [
    "def armstrong(number): #789\n",
    "    num = number #789\n",
    "    result = 0\n",
    "    while num>0:\n",
    "        \n",
    "        value = num%10\n",
    "        result += value**3\n",
    "        num = num // 10\n",
    "    if result == number:\n",
    "        return True\n",
    "    else:\n",
    "        return False\n",
    "    "
   ]
  },
  {
   "cell_type": "code",
   "execution_count": 18,
   "id": "e6caa2c0",
   "metadata": {},
   "outputs": [
    {
     "data": {
      "text/plain": [
       "True"
      ]
     },
     "execution_count": 18,
     "metadata": {},
     "output_type": "execute_result"
    }
   ],
   "source": [
    "armstrong(153)"
   ]
  },
  {
   "cell_type": "code",
   "execution_count": null,
   "id": "2b36aec7",
   "metadata": {},
   "outputs": [],
   "source": []
  },
  {
   "cell_type": "code",
   "execution_count": 22,
   "id": "b00e095c",
   "metadata": {},
   "outputs": [],
   "source": [
    "import numpy as np"
   ]
  },
  {
   "cell_type": "code",
   "execution_count": 40,
   "id": "0572f794",
   "metadata": {},
   "outputs": [],
   "source": [
    "a  = [[1,1,1],\n",
    "      [1,2,1],\n",
    "      [3,1,3]]"
   ]
  },
  {
   "cell_type": "code",
   "execution_count": 41,
   "id": "06a8c957",
   "metadata": {},
   "outputs": [],
   "source": [
    "a = np.array(a)"
   ]
  },
  {
   "cell_type": "code",
   "execution_count": 42,
   "id": "f54ea5f5",
   "metadata": {},
   "outputs": [
    {
     "data": {
      "text/plain": [
       "array([[1, 1, 1],\n",
       "       [1, 2, 1],\n",
       "       [3, 1, 3]])"
      ]
     },
     "execution_count": 42,
     "metadata": {},
     "output_type": "execute_result"
    }
   ],
   "source": [
    "a"
   ]
  },
  {
   "cell_type": "code",
   "execution_count": 44,
   "id": "71b9531b",
   "metadata": {},
   "outputs": [
    {
     "name": "stdout",
     "output_type": "stream",
     "text": [
      "12\n"
     ]
    }
   ],
   "source": [
    "d1 = 0\n",
    "d2 = 0\n",
    "n = len(a)\n",
    "for i in range(n):\n",
    "    d1 += a[i][i]\n",
    "    d2 += a[i][n-i-1]\n",
    "print(d1+d2)"
   ]
  },
  {
   "cell_type": "code",
   "execution_count": null,
   "id": "35c50d9d",
   "metadata": {},
   "outputs": [],
   "source": []
  },
  {
   "cell_type": "code",
   "execution_count": 46,
   "id": "e0c63ad7",
   "metadata": {},
   "outputs": [
    {
     "name": "stdout",
     "output_type": "stream",
     "text": [
      "12\n"
     ]
    }
   ],
   "source": [
    "s = len(a)\n",
    "d1 = 0\n",
    "d2 = 0\n",
    "# for 1st diagonal\n",
    "for i in range(s):\n",
    "    for j in range(s):\n",
    "        if i==j:\n",
    "            d1 += a[i][j]\n",
    "            \n",
    "# for 2nd diagonal\n",
    "for i in range(s):\n",
    "    for j in range(s):\n",
    "        if i+j == n-1:\n",
    "            d2 += a[i][j]\n",
    "print(d1+d2)"
   ]
  },
  {
   "cell_type": "code",
   "execution_count": null,
   "id": "f800e390",
   "metadata": {},
   "outputs": [],
   "source": []
  },
  {
   "cell_type": "code",
   "execution_count": null,
   "id": "fe7e58e6",
   "metadata": {},
   "outputs": [],
   "source": []
  },
  {
   "cell_type": "code",
   "execution_count": 31,
   "id": "453166d4",
   "metadata": {},
   "outputs": [],
   "source": [
    "lst = [4,5,6]"
   ]
  },
  {
   "cell_type": "code",
   "execution_count": 34,
   "id": "f81abafa",
   "metadata": {},
   "outputs": [
    {
     "data": {
      "text/plain": [
       "[<generator object <genexpr> at 0x0000018712F6E970>]"
      ]
     },
     "execution_count": 34,
     "metadata": {},
     "output_type": "execute_result"
    }
   ],
   "source": [
    "[(lambda x:x**2 for x in lst)]"
   ]
  },
  {
   "cell_type": "code",
   "execution_count": 35,
   "id": "84c40f2c",
   "metadata": {},
   "outputs": [
    {
     "data": {
      "text/plain": [
       "[16, 25, 36]"
      ]
     },
     "execution_count": 35,
     "metadata": {},
     "output_type": "execute_result"
    }
   ],
   "source": [
    "[x**2 for x in lst]"
   ]
  },
  {
   "cell_type": "code",
   "execution_count": null,
   "id": "b1b957bd",
   "metadata": {},
   "outputs": [],
   "source": []
  },
  {
   "cell_type": "code",
   "execution_count": 47,
   "id": "74f52443",
   "metadata": {},
   "outputs": [
    {
     "data": {
      "text/plain": [
       "'sdffd'"
      ]
     },
     "execution_count": 47,
     "metadata": {},
     "output_type": "execute_result"
    }
   ],
   "source": [
    "'sdf' + 'fd'"
   ]
  },
  {
   "cell_type": "code",
   "execution_count": null,
   "id": "d31ba9f0",
   "metadata": {},
   "outputs": [],
   "source": []
  },
  {
   "cell_type": "code",
   "execution_count": 54,
   "id": "aecbbdab",
   "metadata": {},
   "outputs": [
    {
     "name": "stdout",
     "output_type": "stream",
     "text": [
      "8\n",
      "0\n"
     ]
    }
   ],
   "source": [
    "num = int(input())\n",
    "while num > 1:\n",
    "    num = num // 3\n",
    "print(num)    "
   ]
  },
  {
   "cell_type": "code",
   "execution_count": 55,
   "id": "6108005e",
   "metadata": {},
   "outputs": [
    {
     "data": {
      "text/plain": [
       "2"
      ]
     },
     "execution_count": 55,
     "metadata": {},
     "output_type": "execute_result"
    }
   ],
   "source": [
    "8//3"
   ]
  },
  {
   "cell_type": "code",
   "execution_count": 56,
   "id": "01b92479",
   "metadata": {},
   "outputs": [
    {
     "data": {
      "text/plain": [
       "0"
      ]
     },
     "execution_count": 56,
     "metadata": {},
     "output_type": "execute_result"
    }
   ],
   "source": [
    "2//3"
   ]
  },
  {
   "cell_type": "code",
   "execution_count": null,
   "id": "68502781",
   "metadata": {},
   "outputs": [],
   "source": []
  },
  {
   "cell_type": "code",
   "execution_count": 59,
   "id": "6ea74628",
   "metadata": {},
   "outputs": [],
   "source": [
    "for i in range(1,1):\n",
    "    print(i)"
   ]
  },
  {
   "cell_type": "code",
   "execution_count": null,
   "id": "bb05e42f",
   "metadata": {},
   "outputs": [],
   "source": []
  },
  {
   "cell_type": "code",
   "execution_count": 60,
   "id": "98b5eb97",
   "metadata": {},
   "outputs": [
    {
     "name": "stdout",
     "output_type": "stream",
     "text": [
      "2\n",
      "3\n",
      "4\n"
     ]
    }
   ],
   "source": [
    "for i in range(2,5):print(i)"
   ]
  },
  {
   "cell_type": "code",
   "execution_count": null,
   "id": "2235f27d",
   "metadata": {},
   "outputs": [],
   "source": []
  },
  {
   "cell_type": "code",
   "execution_count": 61,
   "id": "7d163f27",
   "metadata": {},
   "outputs": [],
   "source": [
    "# sum of digits\n",
    "# take T as input for the test case\n",
    "# for each test case, take integer A as input and print the sum of the digit.(10) -> 1+0 = 1, 46 -> 4+6=10 "
   ]
  },
  {
   "cell_type": "code",
   "execution_count": 68,
   "id": "d8f8b15e",
   "metadata": {},
   "outputs": [],
   "source": [
    "def digit():\n",
    "    T = int(input()) # test case\n",
    "    while T > 0:\n",
    "        a = input() # 45\n",
    "        total = 0\n",
    "        for i in a:\n",
    "            total = total + int(i)\n",
    "        T-=1    \n",
    "        print(total)\n",
    "      \n",
    "        "
   ]
  },
  {
   "cell_type": "code",
   "execution_count": 71,
   "id": "0c2aaab0",
   "metadata": {},
   "outputs": [
    {
     "name": "stdout",
     "output_type": "stream",
     "text": [
      "1\n",
      "0\n",
      "0\n"
     ]
    }
   ],
   "source": [
    "digit()"
   ]
  },
  {
   "cell_type": "code",
   "execution_count": 80,
   "id": "0ceffc7a",
   "metadata": {},
   "outputs": [],
   "source": [
    "def digit2():\n",
    "    T = int(input())\n",
    "    while T > 0:\n",
    "        a = int(input()) # 45\n",
    "        result = 0\n",
    "        while a > 0:\n",
    "            result += a%10\n",
    "            a //=10\n",
    "        \n",
    "        T -=1\n",
    "        print(result)    "
   ]
  },
  {
   "cell_type": "code",
   "execution_count": 81,
   "id": "be7b70b5",
   "metadata": {},
   "outputs": [
    {
     "name": "stdout",
     "output_type": "stream",
     "text": [
      "2\n",
      "11\n",
      "2\n",
      "78\n",
      "15\n"
     ]
    }
   ],
   "source": [
    "digit2()"
   ]
  },
  {
   "cell_type": "code",
   "execution_count": 75,
   "id": "ebfcb572",
   "metadata": {},
   "outputs": [
    {
     "data": {
      "text/plain": [
       "1"
      ]
     },
     "execution_count": 75,
     "metadata": {},
     "output_type": "execute_result"
    }
   ],
   "source": [
    "1%10"
   ]
  },
  {
   "cell_type": "code",
   "execution_count": 74,
   "id": "7ff683a0",
   "metadata": {},
   "outputs": [
    {
     "data": {
      "text/plain": [
       "0"
      ]
     },
     "execution_count": 74,
     "metadata": {},
     "output_type": "execute_result"
    }
   ],
   "source": [
    "9//10"
   ]
  },
  {
   "cell_type": "markdown",
   "id": "13cdb0a2",
   "metadata": {},
   "source": [
    "#### PRIME NUMBER"
   ]
  },
  {
   "cell_type": "code",
   "execution_count": 107,
   "id": "b05bdd49",
   "metadata": {},
   "outputs": [],
   "source": [
    "def is_prime(n):\n",
    "    for i in range(2,int(n/2)+1):\n",
    "        if n%i==0:\n",
    "            #print('This is not a prime number')\n",
    "            return ('This is not a prime number')\n",
    "        \n",
    "    return ('This is prime number')"
   ]
  },
  {
   "cell_type": "code",
   "execution_count": 110,
   "id": "9b0fe7cd",
   "metadata": {},
   "outputs": [
    {
     "data": {
      "text/plain": [
       "'This is prime number'"
      ]
     },
     "execution_count": 110,
     "metadata": {},
     "output_type": "execute_result"
    }
   ],
   "source": [
    "is_prime(43)"
   ]
  },
  {
   "cell_type": "code",
   "execution_count": null,
   "id": "ffd1477d",
   "metadata": {},
   "outputs": [],
   "source": []
  },
  {
   "cell_type": "markdown",
   "id": "f5aff3fa",
   "metadata": {},
   "source": [
    "####  sum of prime numbers "
   ]
  },
  {
   "cell_type": "code",
   "execution_count": 111,
   "id": "abd1e4c9",
   "metadata": {},
   "outputs": [],
   "source": [
    "def is_prime(n):\n",
    "    for i in range(2,int(n/2)+1):\n",
    "        if n%i==0:\n",
    "            #print('This is not a prime number')\n",
    "            return 0\n",
    "        \n",
    "    return n"
   ]
  },
  {
   "cell_type": "code",
   "execution_count": 113,
   "id": "5d331cfc",
   "metadata": {},
   "outputs": [
    {
     "name": "stdout",
     "output_type": "stream",
     "text": [
      "0\n"
     ]
    }
   ],
   "source": [
    "print(is_prime(410))"
   ]
  },
  {
   "cell_type": "code",
   "execution_count": 114,
   "id": "1afdd93b",
   "metadata": {},
   "outputs": [],
   "source": [
    "x = [7,8,6,5,3,11,6]"
   ]
  },
  {
   "cell_type": "code",
   "execution_count": 116,
   "id": "d5700cb1",
   "metadata": {},
   "outputs": [
    {
     "name": "stdout",
     "output_type": "stream",
     "text": [
      "26\n"
     ]
    }
   ],
   "source": [
    "total = 0\n",
    "for i in x:\n",
    "    total += is_prime(i)\n",
    "print (total)    "
   ]
  },
  {
   "cell_type": "code",
   "execution_count": null,
   "id": "ca0833a7",
   "metadata": {},
   "outputs": [],
   "source": []
  },
  {
   "cell_type": "markdown",
   "id": "149cb7b6",
   "metadata": {},
   "source": [
    "#### check if sum of prime is prime ?"
   ]
  },
  {
   "cell_type": "code",
   "execution_count": 121,
   "id": "c219ba8b",
   "metadata": {},
   "outputs": [],
   "source": [
    "def check_prime(n):\n",
    "    for i in range(2,int(n**0.5)+1):\n",
    "        if n%i==0:\n",
    "            return 0\n",
    "    return n\n",
    "\n",
    "\n",
    "\n",
    "def check_prime_array(arr):\n",
    "    total = 0\n",
    "    for i in arr:\n",
    "        if check_prime(i):\n",
    "            total += i\n",
    "    print(f\"Total sum of prime numbers is : {total}\")\n",
    "    \n",
    "    \n",
    "    \n",
    "    \n",
    "    if check_prime(total) == 0:\n",
    "        print(f\"Sum of prime numbers is not a prime number\")\n",
    "    else:\n",
    "        print(\"Sum of prime number is a prime numbe\")"
   ]
  },
  {
   "cell_type": "code",
   "execution_count": null,
   "id": "23a2682d",
   "metadata": {},
   "outputs": [],
   "source": []
  },
  {
   "cell_type": "code",
   "execution_count": 123,
   "id": "c020160f",
   "metadata": {},
   "outputs": [
    {
     "name": "stdout",
     "output_type": "stream",
     "text": [
      "Total sum of prime numbers is : 21\n",
      "Sum of prime numbers is not a prime number\n"
     ]
    }
   ],
   "source": [
    "check_prime_array([7,3,11,6])"
   ]
  },
  {
   "cell_type": "code",
   "execution_count": null,
   "id": "6f75cd1a",
   "metadata": {},
   "outputs": [],
   "source": []
  },
  {
   "cell_type": "code",
   "execution_count": null,
   "id": "211fa595",
   "metadata": {},
   "outputs": [],
   "source": []
  },
  {
   "cell_type": "markdown",
   "id": "7facb919",
   "metadata": {},
   "source": [
    "####  summation of diagonals"
   ]
  },
  {
   "cell_type": "code",
   "execution_count": 130,
   "id": "834be6cb",
   "metadata": {},
   "outputs": [],
   "source": [
    "a  = [[1,1,1],\n",
    "      [1,2,1],\n",
    "      [1,1,3]]"
   ]
  },
  {
   "cell_type": "code",
   "execution_count": 131,
   "id": "15584302",
   "metadata": {},
   "outputs": [],
   "source": [
    "a = np.array(a)"
   ]
  },
  {
   "cell_type": "code",
   "execution_count": 132,
   "id": "f89c2e46",
   "metadata": {},
   "outputs": [
    {
     "data": {
      "text/plain": [
       "array([[1, 1, 1],\n",
       "       [1, 2, 1],\n",
       "       [1, 1, 3]])"
      ]
     },
     "execution_count": 132,
     "metadata": {},
     "output_type": "execute_result"
    }
   ],
   "source": [
    "a"
   ]
  },
  {
   "cell_type": "code",
   "execution_count": 137,
   "id": "6727dc53",
   "metadata": {},
   "outputs": [],
   "source": [
    "def add_diagonals(matrix):\n",
    "    first_diagonal = 0\n",
    "    second_diagonal = 0\n",
    "\n",
    "    n = len(matrix[0])\n",
    "    for i in range(n):\n",
    "        first_diagonal += matrix[i][i] \n",
    "        second_diagonal += matrix[i][n-i-1]\n",
    "    print(first_diagonal)   \n",
    "    print(second_diagonal)"
   ]
  },
  {
   "cell_type": "code",
   "execution_count": 138,
   "id": "0daccfee",
   "metadata": {},
   "outputs": [
    {
     "name": "stdout",
     "output_type": "stream",
     "text": [
      "6\n",
      "4\n"
     ]
    }
   ],
   "source": [
    "add_diagonals(a)"
   ]
  },
  {
   "cell_type": "code",
   "execution_count": null,
   "id": "a5e08ca9",
   "metadata": {},
   "outputs": [],
   "source": []
  },
  {
   "cell_type": "markdown",
   "id": "558800a1",
   "metadata": {},
   "source": [
    "#### TRANSPOSE"
   ]
  },
  {
   "cell_type": "code",
   "execution_count": 139,
   "id": "45aa22ad",
   "metadata": {},
   "outputs": [
    {
     "data": {
      "text/plain": [
       "array([[1, 1, 1],\n",
       "       [1, 2, 1],\n",
       "       [1, 1, 3]])"
      ]
     },
     "execution_count": 139,
     "metadata": {},
     "output_type": "execute_result"
    }
   ],
   "source": [
    "a"
   ]
  },
  {
   "cell_type": "code",
   "execution_count": 140,
   "id": "8cd9dbea",
   "metadata": {},
   "outputs": [],
   "source": [
    "def trans(matrix):\n",
    "    new = matrix\n",
    "    n = len(matrix[0])\n",
    "    \n",
    "    for i in range(n):\n",
    "        for j in range(n):\n",
    "            new[i][j] = matrix[j][i]\n",
    "    print(new)        "
   ]
  },
  {
   "cell_type": "code",
   "execution_count": 141,
   "id": "8826595b",
   "metadata": {},
   "outputs": [
    {
     "name": "stdout",
     "output_type": "stream",
     "text": [
      "[[1 1 1]\n",
      " [1 2 1]\n",
      " [1 1 3]]\n"
     ]
    }
   ],
   "source": [
    "trans(a)"
   ]
  },
  {
   "cell_type": "code",
   "execution_count": null,
   "id": "2cff1cbf",
   "metadata": {},
   "outputs": [],
   "source": []
  },
  {
   "cell_type": "code",
   "execution_count": null,
   "id": "6327479b",
   "metadata": {},
   "outputs": [],
   "source": []
  },
  {
   "cell_type": "code",
   "execution_count": null,
   "id": "b0c2c699",
   "metadata": {},
   "outputs": [],
   "source": []
  },
  {
   "cell_type": "code",
   "execution_count": null,
   "id": "f02ea8b2",
   "metadata": {},
   "outputs": [],
   "source": []
  },
  {
   "cell_type": "code",
   "execution_count": null,
   "id": "db4a4def",
   "metadata": {},
   "outputs": [],
   "source": []
  },
  {
   "cell_type": "code",
   "execution_count": null,
   "id": "15a18ae6",
   "metadata": {},
   "outputs": [],
   "source": []
  },
  {
   "cell_type": "code",
   "execution_count": null,
   "id": "02bff973",
   "metadata": {},
   "outputs": [],
   "source": []
  },
  {
   "cell_type": "code",
   "execution_count": null,
   "id": "a9edf14a",
   "metadata": {},
   "outputs": [],
   "source": []
  },
  {
   "cell_type": "code",
   "execution_count": null,
   "id": "cc71153f",
   "metadata": {},
   "outputs": [],
   "source": []
  },
  {
   "cell_type": "code",
   "execution_count": null,
   "id": "64d97eb2",
   "metadata": {},
   "outputs": [],
   "source": []
  },
  {
   "cell_type": "code",
   "execution_count": null,
   "id": "a1e1487d",
   "metadata": {},
   "outputs": [],
   "source": []
  }
 ],
 "metadata": {
  "kernelspec": {
   "display_name": "Python 3 (ipykernel)",
   "language": "python",
   "name": "python3"
  },
  "language_info": {
   "codemirror_mode": {
    "name": "ipython",
    "version": 3
   },
   "file_extension": ".py",
   "mimetype": "text/x-python",
   "name": "python",
   "nbconvert_exporter": "python",
   "pygments_lexer": "ipython3",
   "version": "3.9.12"
  }
 },
 "nbformat": 4,
 "nbformat_minor": 5
}
